{
 "cells": [
  {
   "cell_type": "markdown",
   "metadata": {},
   "source": [
    "Module 1: 1. sum of n numbers"
   ]
  },
  {
   "cell_type": "code",
   "execution_count": 1,
   "metadata": {},
   "outputs": [
    {
     "name": "stdout",
     "output_type": "stream",
     "text": [
      "Sum of the numbers: 150.0\n"
     ]
    }
   ],
   "source": [
    "# Step 1: Input the value of n\n",
    "n = int(input(\"Enter the value of n: \"))\n",
    "\n",
    "# Step 2: Initialize an empty list 'numbers'\n",
    "numbers = []\n",
    "\n",
    "# Step 3: Input n numbers and add them to the list\n",
    "for i in range(n):\n",
    "    number = float(input(f\"Enter number {i+1}: \"))\n",
    "    numbers.append(number)\n",
    "\n",
    "# Step 4: Initialize 'sum' as 0\n",
    "sum = 0\n",
    "\n",
    "# Step 5: Calculate the sum\n",
    "for num in numbers:\n",
    "    sum += num\n",
    "\n",
    "# Step 6: Print the sum\n",
    "print(\"Sum of the numbers:\", sum)\n"
   ]
  },
  {
   "cell_type": "markdown",
   "metadata": {},
   "source": [
    "OUTPUT:\n",
    "=======\n",
    "\n",
    "Enter the value of n: 5\n",
    "Enter number 1: 10\n",
    "Enter number 2: 20\n",
    "Enter number 3: 30\n",
    "Enter number 4: 40\n",
    "Enter number 5: 50\n",
    "Sum of the numbers: 150\n"
   ]
  },
  {
   "cell_type": "markdown",
   "metadata": {},
   "source": [
    "Module 1: 2 Factorial of N "
   ]
  },
  {
   "cell_type": "code",
   "execution_count": 1,
   "metadata": {},
   "outputs": [
    {
     "name": "stdout",
     "output_type": "stream",
     "text": [
      "The factorial of 5 is: 120\n"
     ]
    }
   ],
   "source": [
    "# Step 1: Input the value of 'n'\n",
    "n = int(input(\"Enter a positive integer (n) to calculate its factorial: \"))\n",
    "\n",
    "# Step 2: Initialize 'factorial' as 1\n",
    "factorial = 1\n",
    "\n",
    "# Step 3: Calculate the factorial\n",
    "for i in range(1, n + 1):\n",
    "    factorial *= i\n",
    "\n",
    "# Step 4: Print the factorial\n",
    "print(f\"The factorial of {n} is: {factorial}\")\n"
   ]
  },
  {
   "cell_type": "markdown",
   "metadata": {},
   "source": [
    "Module 1: 3 Matrix multiplication"
   ]
  },
  {
   "cell_type": "markdown",
   "metadata": {},
   "source": [
    "OUTPUT\n",
    "======\n",
    "\n",
    "Enter a positive integer (n) to calculate its factorial: 5\n",
    "The factorial of 5 is: 120\n"
   ]
  },
  {
   "cell_type": "code",
   "execution_count": 6,
   "metadata": {},
   "outputs": [
    {
     "name": "stdout",
     "output_type": "stream",
     "text": [
      "Enter elements of matrix A:\n",
      "Enter elements of matrix B:\n",
      "Result of matrix multiplication (C):\n",
      "58 64 \n",
      "139 154 \n"
     ]
    }
   ],
   "source": []
  },
  {
   "cell_type": "markdown",
   "metadata": {},
   "source": [
    "OUTPUT: \n",
    "=======\n",
    "Enter the number of rows for the first matrix: 2\n",
    "Enter the number of columns for the first matrix: 3\n",
    "Enter the number of rows for the second matrix: 3\n",
    "Enter the number of columns for the second matrix: 2\n",
    "Enter elements of matrix A:\n",
    "1 2 3\n",
    "4 5 6\n",
    "Enter elements of matrix B:\n",
    "7 8\n",
    "9 10\n",
    "11 12\n",
    "Result of matrix multiplication (C):\n",
    "58 64 \n",
    "139 154\n"
   ]
  },
  {
   "cell_type": "markdown",
   "metadata": {},
   "source": [
    "Module 1: 4 Insertion sort"
   ]
  },
  {
   "cell_type": "code",
   "execution_count": 7,
   "metadata": {},
   "outputs": [
    {
     "name": "stdout",
     "output_type": "stream",
     "text": [
      "Sorted Array: [5, 6, 11, 12, 13]\n"
     ]
    }
   ],
   "source": [
    "# Step 1: Input an array of numbers\n",
    "arr = list(map(int, input(\"Enter an array of numbers separated by spaces: \").split()))\n",
    "\n",
    "# Step 2: Implement Insertion Sort\n",
    "for i in range(1, len(arr)):\n",
    "    key = arr[i]\n",
    "    j = i - 1\n",
    "\n",
    "    while j >= 0 and key < arr[j]:\n",
    "        arr[j + 1] = arr[j]\n",
    "        j -= 1\n",
    "\n",
    "    arr[j + 1] = key\n",
    "\n",
    "# Step 3: Print the sorted array\n",
    "print(\"Sorted Array:\", arr)\n"
   ]
  },
  {
   "cell_type": "markdown",
   "metadata": {},
   "source": [
    "OUTPUT: \n",
    "=======\n",
    "\n",
    "Enter an array of numbers separated by spaces: 12 11 13 5 6\n",
    "Sorted Array: [5, 6, 11, 12, 13]\n"
   ]
  }
 ],
 "metadata": {
  "kernelspec": {
   "display_name": "Python 3",
   "language": "python",
   "name": "python3"
  },
  "language_info": {
   "codemirror_mode": {
    "name": "ipython",
    "version": 3
   },
   "file_extension": ".py",
   "mimetype": "text/x-python",
   "name": "python",
   "nbconvert_exporter": "python",
   "pygments_lexer": "ipython3",
   "version": "3.9.6"
  }
 },
 "nbformat": 4,
 "nbformat_minor": 2
}
